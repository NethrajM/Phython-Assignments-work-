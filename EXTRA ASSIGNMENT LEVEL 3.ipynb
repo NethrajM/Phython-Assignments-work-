{
 "cells": [
  {
   "cell_type": "code",
   "execution_count": 1,
   "metadata": {},
   "outputs": [
    {
     "name": "stdout",
     "output_type": "stream",
     "text": [
      "Enter you age :10\n",
      "correct\n"
     ]
    }
   ],
   "source": [
    "age=int(input(\"Enter you age :\"))\n",
    "if(age==10):\n",
    "    print(\"correct\")"
   ]
  },
  {
   "cell_type": "code",
   "execution_count": 7,
   "metadata": {},
   "outputs": [
    {
     "name": "stdout",
     "output_type": "stream",
     "text": [
      "enter your password Nethraj\n",
      "log in succsess\n"
     ]
    }
   ],
   "source": [
    "password=input(\"enter your password \")\n",
    "if(password==\"Nethraj\"):\n",
    "    print(\"log in succsess\")\n",
    "else:\n",
    "    print(\"incorrect password\")"
   ]
  },
  {
   "cell_type": "code",
   "execution_count": 32,
   "metadata": {},
   "outputs": [
    {
     "name": "stdout",
     "output_type": "stream",
     "text": [
      "Enter your age :52\n"
     ]
    }
   ],
   "source": [
    "age=int(input(\"Enter your age :\"))"
   ]
  },
  {
   "cell_type": "code",
   "execution_count": 34,
   "metadata": {},
   "outputs": [
    {
     "name": "stdout",
     "output_type": "stream",
     "text": [
      "Enter your age :19\n",
      "Adult\n"
     ]
    }
   ],
   "source": [
    "age=int(input(\"Enter your age :\"))\n",
    "if(age<=17):\n",
    "    print(\"children\")\n",
    "elif(age>=18 and age <=35):\n",
    "    print(\"Adult\")\n",
    "elif(age>=35 and age<=50):\n",
    "    print(\"citizen\")\n",
    "else:\n",
    "    print(\"senior citizen\")"
   ]
  },
  {
   "cell_type": "code",
   "execution_count": 38,
   "metadata": {},
   "outputs": [
    {
     "name": "stdout",
     "output_type": "stream",
     "text": [
      "Eneter your OTP :1234\n",
      "postive\n"
     ]
    }
   ],
   "source": [
    "num=int(input(\"Eneter your OTP :\"))\n",
    "if(num==1234): \n",
    "    print(\"postive\")\n",
    "else:\n",
    "    print(\"negative\")"
   ]
  },
  {
   "cell_type": "code",
   "execution_count": null,
   "metadata": {},
   "outputs": [],
   "source": []
  },
  {
   "cell_type": "code",
   "execution_count": 43,
   "metadata": {},
   "outputs": [
    {
     "name": "stdout",
     "output_type": "stream",
     "text": [
      "Eneter a number to check :22\n",
      "It is not divisible\n"
     ]
    }
   ],
   "source": [
    "num=int(input(\"Eneter a number to check :\"))\n",
    "if num%5==0:\n",
    "    print('It is divisible')\n",
    "else:\n",
    "    print('It is not divisible')"
   ]
  },
  {
   "cell_type": "code",
   "execution_count": null,
   "metadata": {},
   "outputs": [],
   "source": []
  }
 ],
 "metadata": {
  "kernelspec": {
   "display_name": "Python 3",
   "language": "python",
   "name": "python3"
  },
  "language_info": {
   "codemirror_mode": {
    "name": "ipython",
    "version": 3
   },
   "file_extension": ".py",
   "mimetype": "text/x-python",
   "name": "python",
   "nbconvert_exporter": "python",
   "pygments_lexer": "ipython3",
   "version": "3.7.4"
  }
 },
 "nbformat": 4,
 "nbformat_minor": 2
}
