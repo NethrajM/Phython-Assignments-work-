{
 "cells": [
  {
   "cell_type": "code",
   "execution_count": 1,
   "metadata": {},
   "outputs": [
    {
     "name": "stdout",
     "output_type": "stream",
     "text": [
      "40\n"
     ]
    }
   ],
   "source": [
    "num1=10  # first assignment \n",
    "num2=30\n",
    "print(num1+num2)\n"
   ]
  },
  {
   "cell_type": "code",
   "execution_count": 5,
   "metadata": {},
   "outputs": [
    {
     "name": "stdout",
     "output_type": "stream",
     "text": [
      "Enter your weight27\n"
     ]
    }
   ],
   "source": [
    "weight=int(input(\"Enter your weight\"))"
   ]
  },
  {
   "cell_type": "code",
   "execution_count": 6,
   "metadata": {},
   "outputs": [
    {
     "name": "stdout",
     "output_type": "stream",
     "text": [
      "Over Weight!!\n"
     ]
    }
   ],
   "source": [
    "\n",
    "if(weight<18.5):\n",
    "    \n",
    "    print(\"Under Weight!!\")\n",
    "    \n",
    "elif(weight>=18.5 and weight <= 24.9 ):\n",
    "\n",
    "    print(\"Healthy Weight!!\")\n",
    "\n",
    "elif(weight>=25 and weight <= 29.9):\n",
    "    print(\"Over Weight!!\")"
   ]
  },
  {
   "cell_type": "code",
   "execution_count": null,
   "metadata": {},
   "outputs": [],
   "source": []
  }
 ],
 "metadata": {
  "kernelspec": {
   "display_name": "Python 3",
   "language": "python",
   "name": "python3"
  },
  "language_info": {
   "codemirror_mode": {
    "name": "ipython",
    "version": 3
   },
   "file_extension": ".py",
   "mimetype": "text/x-python",
   "name": "python",
   "nbconvert_exporter": "python",
   "pygments_lexer": "ipython3",
   "version": "3.7.4"
  }
 },
 "nbformat": 4,
 "nbformat_minor": 2
}
